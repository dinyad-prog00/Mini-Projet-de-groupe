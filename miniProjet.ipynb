{
 "cells": [
  {
   "cell_type": "markdown",
   "id": "b419b8ca",
   "metadata": {},
   "source": [
    "# <center style=\"color:orange\">Mini Projet Python</center>\n",
    "<hr>\n",
    "\n",
    "##  <center style=\"color:green\">Détermine si un mot de passe est bon</center>\n",
    "\n",
    "<hr>\n",
    "\n",
    "> Un bon mot de passe comme étant un mot de passe \n",
    "> <ul>\n",
    "    <li>d'au moins huit (08) caractères </li>\n",
    "    <li>qui contient : </li>\n",
    "    <ul>\n",
    "         <li>au moins une lettre majuscule,</li>\n",
    "         <li>au moins une lettre minuscule </li>\n",
    "         <li>au moins un chiffre</li>\n",
    "        <li>un carectère spécial</li> \n",
    "    </ul>\n",
    " </ul>"
   ]
  },
  {
   "cell_type": "code",
   "execution_count": 1,
   "id": "75503c17",
   "metadata": {},
   "outputs": [],
   "source": [
    "# Verifie la contrainte de taille ( au moins 8 caractères)\n",
    "def si8c(ch):\n",
    "    return len(ch) >= 8"
   ]
  },
  {
   "cell_type": "code",
   "execution_count": 2,
   "id": "99e49183",
   "metadata": {},
   "outputs": [],
   "source": [
    "# Verifie la contrainte de majuscule\n",
    "def majuscule(ch):\n",
    "    m=\"ABCDEFGHIJKLMNOPQRSTUVWXYZ\"\n",
    "    for c in ch:\n",
    "        if c in m:\n",
    "            return True\n",
    "    return False"
   ]
  },
  {
   "cell_type": "code",
   "execution_count": 4,
   "id": "b7afea88",
   "metadata": {},
   "outputs": [],
   "source": [
    "# Verifie la contrainte de minuscule\n",
    "def minuscule(ch):\n",
    "    m=\"ABCDEFGHIJKLMNOPQRSTUVWXYZ\".lower()\n",
    "    for c in ch:\n",
    "        if c in m:\n",
    "            return True\n",
    "    return False"
   ]
  },
  {
   "cell_type": "code",
   "execution_count": 5,
   "id": "533bc98a",
   "metadata": {},
   "outputs": [],
   "source": [
    "# Verifie la contrainte de chiffre\n",
    "def chiffre(ch):\n",
    "    for c in ch:\n",
    "        if c.isdigit():\n",
    "            return True\n",
    "    return False"
   ]
  },
  {
   "cell_type": "code",
   "execution_count": 6,
   "id": "308630b8",
   "metadata": {},
   "outputs": [],
   "source": [
    "# Verifie la contrainte de caractères spécial\n",
    "def cspecial(ch):\n",
    "    n=0\n",
    "    for c in ch:\n",
    "        if not c.isalnum(): # n'est pas alphanumérique\n",
    "            n=n+1\n",
    "    return n == 1"
   ]
  },
  {
   "cell_type": "markdown",
   "id": "8aa7bcbf",
   "metadata": {},
   "source": [
    "## En utilisant les fonctions precédantes on a la solution suivante"
   ]
  },
  {
   "cell_type": "code",
   "execution_count": 7,
   "id": "8c2536a6",
   "metadata": {},
   "outputs": [],
   "source": [
    "\n",
    "def PasswordIsGood(ch):\n",
    "    return si8c(ch) and majuscule(ch) and minuscule(ch) and chiffre(ch) and cspecial(ch)\n",
    "        "
   ]
  },
  {
   "cell_type": "markdown",
   "id": "4bb7b2c8",
   "metadata": {},
   "source": [
    "## Programme principal pour le test"
   ]
  },
  {
   "cell_type": "code",
   "execution_count": 9,
   "id": "34c2c69d",
   "metadata": {},
   "outputs": [
    {
     "name": "stdout",
     "output_type": "stream",
     "text": [
      "Entrez votre mot de passe :········\n",
      "Le mot de passe < azertFGFGFG45# >  est bon.\n"
     ]
    }
   ],
   "source": [
    "from getpass import getpass\n",
    "pwd=getpass(\"Entrez votre mot de passe :\")\n",
    "\n",
    "if PasswordIsGood(pwd):\n",
    "    print(\"Le mot de passe < \"+pwd+\" >  est bon.\")\n",
    "else:\n",
    "    print(\"Le mot de pasee < \"+pwd+\" >  n'est pas bon.\")"
   ]
  }
 ],
 "metadata": {
  "kernelspec": {
   "display_name": "Python 3",
   "language": "python",
   "name": "python3"
  },
  "language_info": {
   "codemirror_mode": {
    "name": "ipython",
    "version": 3
   },
   "file_extension": ".py",
   "mimetype": "text/x-python",
   "name": "python",
   "nbconvert_exporter": "python",
   "pygments_lexer": "ipython3",
   "version": "3.8.5"
  }
 },
 "nbformat": 4,
 "nbformat_minor": 5
}
